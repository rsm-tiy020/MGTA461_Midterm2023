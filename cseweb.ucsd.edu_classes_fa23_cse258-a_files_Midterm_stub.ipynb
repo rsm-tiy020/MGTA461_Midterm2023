{
 "cells": [
  {
   "cell_type": "code",
   "execution_count": 1,
   "id": "8fadc0b4",
   "metadata": {},
   "outputs": [],
   "source": [
    "import json\n",
    "import gzip\n",
    "import math\n",
    "from collections import defaultdict\n",
    "import numpy\n",
    "from sklearn import linear_model\n",
    "import random\n",
    "import statistics"
   ]
  },
  {
   "cell_type": "code",
   "execution_count": 2,
   "id": "bcdcf1eb",
   "metadata": {},
   "outputs": [],
   "source": [
    "def assertFloat(x):\n",
    "    assert type(float(x)) == float\n",
    "\n",
    "def assertFloatList(items, N):\n",
    "    assert len(items) == N\n",
    "    assert [type(float(x)) for x in items] == [float]*N"
   ]
  },
  {
   "cell_type": "code",
   "execution_count": 3,
   "id": "42a8d119",
   "metadata": {},
   "outputs": [],
   "source": [
    "answers = {}"
   ]
  },
  {
   "cell_type": "code",
   "execution_count": 4,
   "id": "83a6d4b5",
   "metadata": {},
   "outputs": [],
   "source": [
    "z = gzip.open(\"/Users/tiyang/Downloads/MGTA461_Midterm2023/train.json.gz\")"
   ]
  },
  {
   "cell_type": "code",
   "execution_count": 5,
   "id": "0d2ef14c",
   "metadata": {},
   "outputs": [],
   "source": [
    "dataset = []\n",
    "for l in z:\n",
    "    d = eval(l)\n",
    "    dataset.append(d)"
   ]
  },
  {
   "cell_type": "code",
   "execution_count": 6,
   "id": "46a06fd5",
   "metadata": {},
   "outputs": [],
   "source": [
    "z.close()"
   ]
  },
  {
   "cell_type": "code",
   "execution_count": 7,
   "id": "93e80cfe",
   "metadata": {},
   "outputs": [],
   "source": [
    "### Question 1"
   ]
  },
  {
   "cell_type": "code",
   "execution_count": 8,
   "id": "c37e48b0",
   "metadata": {},
   "outputs": [],
   "source": [
    "def MSE(y, ypred):\n",
    "    return numpy.mean((y - ypred)**2)"
   ]
  },
  {
   "cell_type": "code",
   "execution_count": 9,
   "id": "85a5714b",
   "metadata": {},
   "outputs": [],
   "source": [
    "def MAE(y, ypred):\n",
    "    return numpy.mean(numpy.abs(y - ypred))"
   ]
  },
  {
   "cell_type": "code",
   "execution_count": 10,
   "id": "9313a06c",
   "metadata": {},
   "outputs": [],
   "source": [
    "reviewsPerUser = defaultdict(list)\n",
    "reviewsPerItem = defaultdict(list)\n",
    "\n",
    "for d in dataset:\n",
    "    u,i = d['userID'],d['gameID']\n",
    "    reviewsPerUser[u].append(d)\n",
    "    reviewsPerItem[i].append(d)\n",
    "    \n",
    "for u in reviewsPerUser:\n",
    "    reviewsPerUser[u].sort(key=lambda x: x['date'])\n",
    "    \n",
    "for i in reviewsPerItem:\n",
    "    reviewsPerItem[i].sort(key=lambda x: x['date'])"
   ]
  },
  {
   "cell_type": "code",
   "execution_count": 11,
   "id": "d90c72f8",
   "metadata": {},
   "outputs": [],
   "source": [
    "def feat1(d):\n",
    "    return [d['hours']]"
   ]
  },
  {
   "cell_type": "code",
   "execution_count": 12,
   "id": "a4e6ec8d",
   "metadata": {},
   "outputs": [],
   "source": [
    "X = numpy.array([feat1(d) for d in dataset])\n",
    "y = numpy.array([len(d['text']) for d in dataset])"
   ]
  },
  {
   "cell_type": "code",
   "execution_count": 13,
   "id": "b74b4f96",
   "metadata": {},
   "outputs": [],
   "source": [
    "mod = linear_model.LinearRegression()\n",
    "mod.fit(X,y)\n",
    "predictions = mod.predict(X)"
   ]
  },
  {
   "cell_type": "code",
   "execution_count": 14,
   "id": "01a4668f",
   "metadata": {},
   "outputs": [],
   "source": [
    "mse_q1 = MSE(y, predictions)\n",
    "theta_1 = mod.coef_[0]"
   ]
  },
  {
   "cell_type": "code",
   "execution_count": 15,
   "id": "f32ed5c0",
   "metadata": {},
   "outputs": [],
   "source": [
    "answers['Q1'] = [theta_1, mse_q1]"
   ]
  },
  {
   "cell_type": "code",
   "execution_count": 16,
   "id": "7c0b7568",
   "metadata": {},
   "outputs": [
    {
     "name": "stdout",
     "output_type": "stream",
     "text": [
      "[0.00785726970433403, 570936.2842458971]\n"
     ]
    }
   ],
   "source": [
    "assertFloatList(answers['Q1'], 2)\n",
    "\n",
    "print(answers['Q1'])"
   ]
  },
  {
   "cell_type": "code",
   "execution_count": 17,
   "id": "6e26bb75",
   "metadata": {},
   "outputs": [],
   "source": [
    "### Question 2"
   ]
  },
  {
   "cell_type": "code",
   "execution_count": 18,
   "id": "99a2aba4",
   "metadata": {},
   "outputs": [],
   "source": [
    "hours_list = [d['hours'] for d in dataset]\n",
    "median_hours = statistics.median(hours_list)"
   ]
  },
  {
   "cell_type": "code",
   "execution_count": 19,
   "id": "7246aab0",
   "metadata": {},
   "outputs": [],
   "source": [
    "def feat2(d):\n",
    "    hours = d['hours']\n",
    "    return [\n",
    "        1,  # for the intercept term, θ0\n",
    "        hours,  # θ1 * (hours)\n",
    "        math.log2(hours + 1),  # θ2 * log2(hours + 1)\n",
    "        math.sqrt(hours),  # θ3 * sqrt(hours)\n",
    "        1 if hours > median_hours else 0  # θ4 * δ(hours > median)\n",
    "    ]"
   ]
  },
  {
   "cell_type": "code",
   "execution_count": 20,
   "id": "d8786922",
   "metadata": {},
   "outputs": [],
   "source": [
    "X = [feat2(d) for d in dataset]"
   ]
  },
  {
   "cell_type": "code",
   "execution_count": 21,
   "id": "1197d1b8",
   "metadata": {},
   "outputs": [],
   "source": [
    "mod = linear_model.LinearRegression(fit_intercept=False)\n",
    "mod.fit(X,y)\n",
    "predictions = mod.predict(X)"
   ]
  },
  {
   "cell_type": "code",
   "execution_count": 22,
   "id": "2402ef0b",
   "metadata": {},
   "outputs": [],
   "source": [
    "mse_q2 = MSE(y, predictions)"
   ]
  },
  {
   "cell_type": "code",
   "execution_count": 23,
   "id": "1a5d7a44",
   "metadata": {},
   "outputs": [],
   "source": [
    "answers['Q2'] = mse_q2"
   ]
  },
  {
   "cell_type": "code",
   "execution_count": 24,
   "id": "fad4744e",
   "metadata": {},
   "outputs": [
    {
     "name": "stdout",
     "output_type": "stream",
     "text": [
      "565419.5340402179\n"
     ]
    }
   ],
   "source": [
    "assertFloat(answers['Q2'])\n",
    "\n",
    "print(answers['Q2'])"
   ]
  },
  {
   "cell_type": "code",
   "execution_count": 25,
   "id": "a690f9b9",
   "metadata": {},
   "outputs": [],
   "source": [
    "### Question 3"
   ]
  },
  {
   "cell_type": "code",
   "execution_count": 26,
   "id": "8e524edb",
   "metadata": {},
   "outputs": [],
   "source": [
    "def feat3(d):\n",
    "    hours = d['hours']\n",
    "    return [\n",
    "        1,  # for the intercept term, θ0\n",
    "        1 if hours > 1 else 0,    # θ1 * δ(h > 1)\n",
    "        1 if hours > 5 else 0,    # θ2 * δ(h > 5)\n",
    "        1 if hours > 10 else 0,   # θ3 * δ(h > 10)\n",
    "        1 if hours > 100 else 0,  # θ4 * δ(h > 100)\n",
    "        1 if hours > 1000 else 0  # θ5 * δ(h > 1000)\n",
    "    ]"
   ]
  },
  {
   "cell_type": "code",
   "execution_count": 27,
   "id": "da7b030d",
   "metadata": {},
   "outputs": [],
   "source": [
    "X = [feat3(d) for d in dataset]"
   ]
  },
  {
   "cell_type": "code",
   "execution_count": 28,
   "id": "44943983",
   "metadata": {},
   "outputs": [],
   "source": [
    "mod = linear_model.LinearRegression(fit_intercept=False)\n",
    "mod.fit(X,y)\n",
    "predictions = mod.predict(X)"
   ]
  },
  {
   "cell_type": "code",
   "execution_count": 29,
   "id": "4439c4e6",
   "metadata": {},
   "outputs": [],
   "source": [
    "mse_q3 = MSE(y, predictions)"
   ]
  },
  {
   "cell_type": "code",
   "execution_count": 30,
   "id": "20b470b3",
   "metadata": {},
   "outputs": [],
   "source": [
    "answers['Q3'] = mse_q3"
   ]
  },
  {
   "cell_type": "code",
   "execution_count": 31,
   "id": "3846bd87",
   "metadata": {},
   "outputs": [
    {
     "name": "stdout",
     "output_type": "stream",
     "text": [
      "565405.439588582\n"
     ]
    }
   ],
   "source": [
    "assertFloat(answers['Q3'])\n",
    "\n",
    "print(answers['Q3'])"
   ]
  },
  {
   "cell_type": "code",
   "execution_count": 32,
   "id": "69de975e",
   "metadata": {},
   "outputs": [],
   "source": [
    "### Question 4"
   ]
  },
  {
   "cell_type": "code",
   "execution_count": 33,
   "id": "67b6c515",
   "metadata": {},
   "outputs": [],
   "source": [
    "def feat4(d):\n",
    "    return [len(d['text'])]"
   ]
  },
  {
   "cell_type": "code",
   "execution_count": 34,
   "id": "801b7a5c",
   "metadata": {},
   "outputs": [],
   "source": [
    "X = [feat4(d) for d in dataset]\n",
    "y = [d['hours'] for d in dataset]"
   ]
  },
  {
   "cell_type": "code",
   "execution_count": 35,
   "id": "d57f7fc8",
   "metadata": {},
   "outputs": [],
   "source": [
    "mod = linear_model.LinearRegression(fit_intercept=False)\n",
    "mod.fit(X,y)\n",
    "predictions = mod.predict(X)"
   ]
  },
  {
   "cell_type": "code",
   "execution_count": 36,
   "id": "c92c3a8d",
   "metadata": {},
   "outputs": [],
   "source": [
    "mse = MSE(y, predictions)\n",
    "mae = MAE(y, predictions)"
   ]
  },
  {
   "cell_type": "code",
   "execution_count": 37,
   "id": "eff1f9a8",
   "metadata": {},
   "outputs": [],
   "source": [
    "explanation = \"MAE may be more suitable when dealing with datasets with potential outliers, as it is less sensitive to extreme values than MSE.\""
   ]
  },
  {
   "cell_type": "code",
   "execution_count": 38,
   "id": "ab2a5ddc",
   "metadata": {},
   "outputs": [],
   "source": [
    "answers['Q4'] = [mse, mae, explanation]"
   ]
  },
  {
   "cell_type": "code",
   "execution_count": 39,
   "id": "44b4eba2",
   "metadata": {},
   "outputs": [
    {
     "name": "stdout",
     "output_type": "stream",
     "text": [
      "[79171.87488518466, 67.44841239495095, 'MAE may be more suitable when dealing with datasets with potential outliers, as it is less sensitive to extreme values than MSE.']\n"
     ]
    }
   ],
   "source": [
    "assertFloatList(answers['Q4'][:2], 2)\n",
    "\n",
    "print(answers['Q4'])"
   ]
  },
  {
   "cell_type": "code",
   "execution_count": 40,
   "id": "3d0ee44c",
   "metadata": {},
   "outputs": [],
   "source": [
    "### Question 5"
   ]
  },
  {
   "cell_type": "code",
   "execution_count": null,
   "id": "a333cb41",
   "metadata": {},
   "outputs": [],
   "source": []
  },
  {
   "cell_type": "code",
   "execution_count": 41,
   "id": "c841e81f",
   "metadata": {},
   "outputs": [],
   "source": [
    "y_trans = [math.log2(d['hours'] + 1) for d in dataset]"
   ]
  },
  {
   "cell_type": "code",
   "execution_count": 42,
   "id": "a8e690b6",
   "metadata": {},
   "outputs": [],
   "source": [
    "mod = linear_model.LinearRegression(fit_intercept=False)\n",
    "mod.fit(X,y_trans)\n",
    "predictions_trans = mod.predict(X)"
   ]
  },
  {
   "cell_type": "code",
   "execution_count": 43,
   "id": "6fcc3141",
   "metadata": {},
   "outputs": [],
   "source": [
    "mse_trans = MSE(y_trans, predictions_trans) # MSE using the transformed variable"
   ]
  },
  {
   "cell_type": "code",
   "execution_count": 44,
   "id": "78d37258",
   "metadata": {},
   "outputs": [],
   "source": [
    "y_array = numpy.array(y)"
   ]
  },
  {
   "cell_type": "code",
   "execution_count": 45,
   "id": "62185cfa",
   "metadata": {},
   "outputs": [],
   "source": [
    "predictions_untrans = numpy.array([2**p - 1 for p in predictions_trans]) # Undoing the transformation"
   ]
  },
  {
   "cell_type": "code",
   "execution_count": 46,
   "id": "3b0db71f",
   "metadata": {},
   "outputs": [],
   "source": [
    "mse_untrans = MSE(y_array, predictions_untrans)"
   ]
  },
  {
   "cell_type": "code",
   "execution_count": 47,
   "id": "9ec7c9c7",
   "metadata": {},
   "outputs": [],
   "source": [
    "answers['Q5'] = [mse_trans, mse_untrans]"
   ]
  },
  {
   "cell_type": "code",
   "execution_count": 48,
   "id": "55ee62bb",
   "metadata": {},
   "outputs": [
    {
     "name": "stdout",
     "output_type": "stream",
     "text": [
      "[15.684260629190968, 24345628.474495023]\n"
     ]
    }
   ],
   "source": [
    "assertFloatList(answers['Q5'], 2)\n",
    "\n",
    "print(answers['Q5'])"
   ]
  },
  {
   "cell_type": "code",
   "execution_count": 49,
   "id": "0e41b3db",
   "metadata": {},
   "outputs": [],
   "source": [
    "### Question 6"
   ]
  },
  {
   "cell_type": "code",
   "execution_count": 50,
   "id": "b538f945",
   "metadata": {},
   "outputs": [],
   "source": [
    "def feat6(d):\n",
    "    hours = int(d['hours'])  # Get the integer part of the hours\n",
    "    one_hot = [0]*100\n",
    "    one_hot[min(hours, 99)] = 1  # Cap the feature at 99 hours\n",
    "    return one_hot"
   ]
  },
  {
   "cell_type": "code",
   "execution_count": 51,
   "id": "b530b615",
   "metadata": {},
   "outputs": [],
   "source": [
    "X = [feat6(d) for d in dataset]\n",
    "y = [len(d['text']) for d in dataset]"
   ]
  },
  {
   "cell_type": "code",
   "execution_count": 52,
   "id": "f3a35fff",
   "metadata": {},
   "outputs": [],
   "source": [
    "Xtrain, Xvalid, Xtest = X[:len(X)//2], X[len(X)//2:(3*len(X))//4], X[(3*len(X))//4:]\n",
    "ytrain, yvalid, ytest = y[:len(X)//2], y[len(X)//2:(3*len(X))//4], y[(3*len(X))//4:]"
   ]
  },
  {
   "cell_type": "code",
   "execution_count": 53,
   "metadata": {},
   "outputs": [],
   "source": [
    "from sklearn.linear_model import Ridge"
   ]
  },
  {
   "cell_type": "code",
   "execution_count": 54,
   "id": "c7f5d114",
   "metadata": {},
   "outputs": [],
   "source": [
    "models = {}\n",
    "mses = {}\n",
    "bestC = None\n",
    "bestMSE = float('inf')\n",
    "\n",
    "for c in [1, 10, 100, 1000, 10000]:\n",
    "    models[c] = Ridge(alpha=c)\n",
    "    models[c].fit(Xtrain, ytrain)\n",
    "\n",
    "    predictions_valid = models[c].predict(Xvalid)\n",
    "\n",
    "    mses[c] = MSE(yvalid, predictions_valid)\n",
    "\n",
    "    if mses[c] < bestMSE:\n",
    "        bestC = c\n",
    "        bestMSE = mses[c]"
   ]
  },
  {
   "cell_type": "code",
   "execution_count": 55,
   "id": "f3eadfd2",
   "metadata": {},
   "outputs": [],
   "source": [
    "best_model = models[bestC]"
   ]
  },
  {
   "cell_type": "code",
   "execution_count": 56,
   "id": "3743d2e8",
   "metadata": {},
   "outputs": [],
   "source": [
    "predictions_test = best_model.predict(Xtest)"
   ]
  },
  {
   "cell_type": "code",
   "execution_count": 57,
   "id": "c3fb98df",
   "metadata": {},
   "outputs": [],
   "source": [
    "mse_valid = bestMSE"
   ]
  },
  {
   "cell_type": "code",
   "execution_count": 58,
   "id": "db93b379",
   "metadata": {},
   "outputs": [],
   "source": [
    "mse_test = MSE(ytest, predictions_test)"
   ]
  },
  {
   "cell_type": "code",
   "execution_count": 59,
   "id": "f49bfb80",
   "metadata": {},
   "outputs": [],
   "source": [
    "answers['Q6'] = [bestC, mse_valid, mse_test]"
   ]
  },
  {
   "cell_type": "code",
   "execution_count": 60,
   "id": "8baaf741",
   "metadata": {},
   "outputs": [
    {
     "name": "stdout",
     "output_type": "stream",
     "text": [
      "[1000, 581432.8208480754, 560786.7645482325]\n"
     ]
    }
   ],
   "source": [
    "assertFloatList(answers['Q6'], 3)\n",
    "\n",
    "print(answers['Q6'])"
   ]
  },
  {
   "cell_type": "code",
   "execution_count": 61,
   "id": "f0aa5b79",
   "metadata": {},
   "outputs": [],
   "source": [
    "### Question 7"
   ]
  },
  {
   "cell_type": "code",
   "execution_count": 62,
   "id": "504f6f12",
   "metadata": {},
   "outputs": [],
   "source": [
    "times = [d['hours_transformed'] for d in dataset]\n",
    "median = statistics.median(times)"
   ]
  },
  {
   "cell_type": "code",
   "execution_count": null,
   "id": "c71ffb04",
   "metadata": {},
   "outputs": [],
   "source": []
  },
  {
   "cell_type": "code",
   "execution_count": 63,
   "id": "127534da",
   "metadata": {},
   "outputs": [],
   "source": [
    "notPlayed = [time for time in times if time < 1]\n",
    "nNotPlayed = len(notPlayed)"
   ]
  },
  {
   "cell_type": "code",
   "execution_count": 64,
   "id": "7d2bed2d",
   "metadata": {},
   "outputs": [],
   "source": [
    "answers['Q7'] = [median, nNotPlayed]"
   ]
  },
  {
   "cell_type": "code",
   "execution_count": 65,
   "id": "b1bdbec6",
   "metadata": {},
   "outputs": [
    {
     "name": "stdout",
     "output_type": "stream",
     "text": [
      "[3.4724877714627436, 19913]\n"
     ]
    }
   ],
   "source": [
    "assertFloatList(answers['Q7'], 2)\n",
    "\n",
    "print(answers['Q7'])"
   ]
  },
  {
   "cell_type": "code",
   "execution_count": 66,
   "id": "67e8ecc1",
   "metadata": {},
   "outputs": [],
   "source": [
    "### Question 8"
   ]
  },
  {
   "cell_type": "code",
   "execution_count": 67,
   "id": "30b18d0c",
   "metadata": {},
   "outputs": [],
   "source": [
    "def feat8(d):\n",
    "    return [len(d['text'])]"
   ]
  },
  {
   "cell_type": "code",
   "execution_count": 68,
   "id": "04607068",
   "metadata": {},
   "outputs": [],
   "source": [
    "X = [feat8(d) for d in dataset]\n",
    "y = [d['hours_transformed'] > median for d in dataset]"
   ]
  },
  {
   "cell_type": "code",
   "execution_count": 69,
   "id": "8bad8f5c",
   "metadata": {},
   "outputs": [],
   "source": [
    "mod = linear_model.LogisticRegression(class_weight='balanced')\n",
    "mod.fit(X,y)\n",
    "predictions = mod.predict(X) # Binary vector of predictions"
   ]
  },
  {
   "cell_type": "code",
   "execution_count": 70,
   "id": "44a577ea",
   "metadata": {},
   "outputs": [],
   "source": [
    "def rates(predictions, y):\n",
    "    TP = sum(p and l for p, l in zip(predictions, y))\n",
    "    TN = sum(not p and not l for p, l in zip(predictions, y))\n",
    "    FP = sum(p and not l for p, l in zip(predictions, y))\n",
    "    FN = sum(not p and l for p, l in zip(predictions, y))\n",
    "    return TP, TN, FP, FN"
   ]
  },
  {
   "cell_type": "code",
   "execution_count": 71,
   "id": "6b96e14a",
   "metadata": {},
   "outputs": [],
   "source": [
    "TP, TN, FP, FN = rates(predictions, y)"
   ]
  },
  {
   "cell_type": "code",
   "execution_count": 72,
   "id": "1945455a",
   "metadata": {},
   "outputs": [],
   "source": [
    "P = sum(y) \n",
    "N = len(y) - P\n",
    "BER = 0.5 * ((FP / N) + (FN / P))"
   ]
  },
  {
   "cell_type": "code",
   "execution_count": 73,
   "id": "2f3004dc",
   "metadata": {},
   "outputs": [],
   "source": [
    "answers['Q8'] = [TP, TN, FP, FN, BER]"
   ]
  },
  {
   "cell_type": "code",
   "execution_count": 74,
   "id": "f3623ff7",
   "metadata": {},
   "outputs": [
    {
     "name": "stdout",
     "output_type": "stream",
     "text": [
      "[24656, 67811, 20007, 62526, 0.472506390561468]\n"
     ]
    }
   ],
   "source": [
    "assertFloatList(answers['Q8'], 5)\n",
    "\n",
    "print(answers['Q8'])"
   ]
  },
  {
   "cell_type": "code",
   "execution_count": 75,
   "id": "0f0ba96b",
   "metadata": {},
   "outputs": [],
   "source": [
    "### Question 9"
   ]
  },
  {
   "cell_type": "code",
   "execution_count": 76,
   "id": "e16a39df",
   "metadata": {},
   "outputs": [
    {
     "ename": "SyntaxError",
     "evalue": "invalid syntax (688621682.py, line 1)",
     "output_type": "error",
     "traceback": [
      "\u001b[0;36m  Cell \u001b[0;32mIn[76], line 1\u001b[0;36m\u001b[0m\n\u001b[0;31m    precision =\u001b[0m\n\u001b[0m                ^\u001b[0m\n\u001b[0;31mSyntaxError\u001b[0m\u001b[0;31m:\u001b[0m invalid syntax\n"
     ]
    }
   ],
   "source": [
    "precision = \n",
    "recall = "
   ]
  },
  {
   "cell_type": "code",
   "execution_count": 77,
   "id": "f10c0570",
   "metadata": {},
   "outputs": [],
   "source": [
    "probabilities = mod.predict_proba(X)[:,1]\n",
    "sorted_by_prob = sorted(zip(probabilities, y), key=lambda x: x[0], reverse=True)"
   ]
  },
  {
   "cell_type": "code",
   "execution_count": 78,
   "id": "177fa669",
   "metadata": {},
   "outputs": [],
   "source": [
    "precs = []\n",
    "recs = []\n",
    "\n",
    "for i in [5, 10, 100, 1000]:\n",
    "    sorted_data = sorted(zip(dataset, probabilities), key=lambda x: x[1], reverse=True)\n",
    "\n",
    "    threshold = sorted_data[i-1][1] if i <= len(sorted_data) else sorted_data[-1][1]\n",
    "    \n",
    "    threshold_data = [(d, prob) for d, prob in sorted_data if prob >= threshold]\n",
    "    \n",
    "    TP = sum(1 for d, prob in threshold_data if d['hours_transformed'] > median)\n",
    "    precision = TP / len(threshold_data)\n",
    "    \n",
    "    recall = TP / sum(1 for d in dataset if d['hours_transformed'] > median)\n",
    "    \n",
    "    precs.append(precision)\n",
    "    recs.append(recall)"
   ]
  },
  {
   "cell_type": "code",
   "execution_count": 79,
   "id": "8a856ebb",
   "metadata": {},
   "outputs": [],
   "source": [
    "answers['Q9'] = precs"
   ]
  },
  {
   "cell_type": "code",
   "execution_count": 80,
   "id": "6d85ba8a",
   "metadata": {},
   "outputs": [
    {
     "name": "stdout",
     "output_type": "stream",
     "text": [
      "[0.5454545454545454, 0.5454545454545454, 0.67, 0.685]\n"
     ]
    }
   ],
   "source": [
    "assertFloatList(answers['Q9'], 4)\n",
    "\n",
    "print(answers['Q9'])"
   ]
  },
  {
   "cell_type": "code",
   "execution_count": 81,
   "id": "26a3af12",
   "metadata": {},
   "outputs": [],
   "source": [
    "### Question 10"
   ]
  },
  {
   "cell_type": "code",
   "execution_count": 82,
   "id": "435b494f",
   "metadata": {},
   "outputs": [],
   "source": [
    "y_trans = [d['hours_transformed'] for d in dataset]"
   ]
  },
  {
   "cell_type": "code",
   "execution_count": 83,
   "id": "4e5c9662",
   "metadata": {},
   "outputs": [],
   "source": [
    "mod = linear_model.LinearRegression(fit_intercept=False)\n",
    "mod.fit(X,y_trans)\n",
    "predictions_trans = mod.predict(X)"
   ]
  },
  {
   "cell_type": "code",
   "execution_count": 84,
   "metadata": {},
   "outputs": [],
   "source": [
    "ber_to_beat = answers['Q8'][4]\n",
    "\n",
    "def calculate_ber(predictions, actual):\n",
    "    TP = sum((p and a) for p, a in zip(predictions, actual))\n",
    "    TN = sum((not p and not a) for p, a in zip(predictions, actual))\n",
    "    FP = sum((p and not a) for p, a in zip(predictions, actual))\n",
    "    FN = sum((not p and a) for p, a in zip(predictions, actual))\n",
    "    P = sum(actual)  \n",
    "    N = len(actual) - P  \n",
    "    return 0.5 * ((FP / N) + (FN / P))\n",
    "\n",
    "best_threshold = None\n",
    "best_ber = float('inf')\n",
    "for threshold in numpy.linspace(min(predictions_trans), max(predictions_trans), 1000):\n",
    "    predictions_thresh = predictions_trans > threshold\n",
    "    current_ber = calculate_ber(predictions_thresh, y)\n",
    "    if current_ber < best_ber:\n",
    "        best_ber = current_ber\n",
    "        best_threshold = threshold"
   ]
  },
  {
   "cell_type": "code",
   "execution_count": 85,
   "id": "3f466026",
   "metadata": {},
   "outputs": [],
   "source": [
    "predictions_thresh = predictions_trans > best_threshold # Using a fixed threshold to make predictions"
   ]
  },
  {
   "cell_type": "code",
   "execution_count": 86,
   "id": "7f3d58fb",
   "metadata": {},
   "outputs": [],
   "source": [
    "TP, TN, FP, FN = rates(predictions_thresh, y)"
   ]
  },
  {
   "cell_type": "code",
   "execution_count": 87,
   "id": "4fed01b8",
   "metadata": {},
   "outputs": [],
   "source": [
    "BER = 0.5 * ((FP / (FP + TN)) + (FN / (TP + FN)))"
   ]
  },
  {
   "cell_type": "code",
   "execution_count": 88,
   "id": "7846fa89",
   "metadata": {},
   "outputs": [],
   "source": [
    "answers['Q10'] = [best_threshold, BER]"
   ]
  },
  {
   "cell_type": "code",
   "execution_count": 89,
   "id": "9c718e55",
   "metadata": {},
   "outputs": [
    {
     "name": "stdout",
     "output_type": "stream",
     "text": [
      "[0.5917041695431507, 0.4712697914365896]\n"
     ]
    }
   ],
   "source": [
    "assertFloatList(answers['Q10'], 2)\n",
    "\n",
    "print(answers['Q10'])"
   ]
  },
  {
   "cell_type": "code",
   "execution_count": 90,
   "id": "0795d286",
   "metadata": {},
   "outputs": [],
   "source": [
    "### Question 11"
   ]
  },
  {
   "cell_type": "code",
   "execution_count": 91,
   "id": "3b66ab1e",
   "metadata": {},
   "outputs": [],
   "source": [
    "dataTrain = dataset[:int(len(dataset)*0.9)]\n",
    "dataTest = dataset[int(len(dataset)*0.9):]"
   ]
  },
  {
   "cell_type": "code",
   "execution_count": 92,
   "id": "fb03b18b",
   "metadata": {},
   "outputs": [],
   "source": [
    "userMedian = defaultdict(list)\n",
    "itemMedian = defaultdict(list)\n",
    "\n",
    "# Compute medians on training data"
   ]
  },
  {
   "cell_type": "code",
   "execution_count": 93,
   "id": "c359fc4c",
   "metadata": {},
   "outputs": [],
   "source": [
    "for d in dataTrain:\n",
    "    user, item, playtime = d['userID'], d['gameID'], d['hours']\n",
    "    userMedian[user].append(playtime)\n",
    "    itemMedian[item].append(playtime)\n",
    "\n",
    "for user in userMedian:\n",
    "    userMedian[user] = statistics.median(userMedian[user])\n",
    "\n",
    "for item in itemMedian:\n",
    "    itemMedian[item] = statistics.median(itemMedian[item])\n",
    "\n",
    "first_item = dataTrain[0]['gameID']\n",
    "first_user = dataTrain[0]['userID']"
   ]
  },
  {
   "cell_type": "code",
   "execution_count": 95,
   "id": "416c32c6",
   "metadata": {},
   "outputs": [],
   "source": [
    "answers['Q11'] = [itemMedian['g35322304'], userMedian['u55351001']]"
   ]
  },
  {
   "cell_type": "code",
   "execution_count": 96,
   "id": "841df3e0",
   "metadata": {},
   "outputs": [
    {
     "name": "stdout",
     "output_type": "stream",
     "text": [
      "[0.5, 3.9]\n"
     ]
    }
   ],
   "source": [
    "assertFloatList(answers['Q11'], 2)\n",
    "\n",
    "print(answers['Q11'])"
   ]
  },
  {
   "cell_type": "code",
   "execution_count": null,
   "id": "19378bc4",
   "metadata": {},
   "outputs": [],
   "source": [
    "### Question 12"
   ]
  },
  {
   "cell_type": "code",
   "execution_count": 97,
   "metadata": {},
   "outputs": [],
   "source": [
    "global_median = statistics.median([d['hours'] for d in dataTrain])"
   ]
  },
  {
   "cell_type": "code",
   "execution_count": 98,
   "id": "db5612a9",
   "metadata": {},
   "outputs": [],
   "source": [
    "def f12(u,i):\n",
    "    # Function returns a single value (0 or 1)\n",
    "    if i in itemMedian:\n",
    "        if itemMedian[i] > global_median:\n",
    "            return 1\n",
    "        else:\n",
    "            return 0\n",
    "    else:\n",
    "        if u in userMedian and userMedian[u] > global_median:\n",
    "            return 1\n",
    "        else:\n",
    "            return 0"
   ]
  },
  {
   "cell_type": "code",
   "execution_count": 99,
   "id": "91c6f925",
   "metadata": {},
   "outputs": [],
   "source": [
    "preds = [f12(d['userID'], d['gameID']) for d in dataTest]"
   ]
  },
  {
   "cell_type": "code",
   "execution_count": 100,
   "id": "4b2a0191",
   "metadata": {},
   "outputs": [],
   "source": [
    "y = [1 if d['hours'] > global_median else 0 for d in dataTest]"
   ]
  },
  {
   "cell_type": "code",
   "execution_count": 101,
   "id": "d98b7500",
   "metadata": {},
   "outputs": [],
   "source": [
    "accuracy = sum(1 for (pred, actual) in zip(preds, y) if pred == actual) / len(preds)"
   ]
  },
  {
   "cell_type": "code",
   "execution_count": 102,
   "id": "fc9a4ae3",
   "metadata": {},
   "outputs": [],
   "source": [
    "answers['Q12'] = accuracy"
   ]
  },
  {
   "cell_type": "code",
   "execution_count": 103,
   "id": "4f139511",
   "metadata": {},
   "outputs": [
    {
     "name": "stdout",
     "output_type": "stream",
     "text": [
      "0.7410857142857142\n"
     ]
    }
   ],
   "source": [
    "assertFloat(answers['Q12'])\n",
    "\n",
    "print(answers['Q12'])"
   ]
  },
  {
   "cell_type": "code",
   "execution_count": null,
   "id": "4b356b97",
   "metadata": {},
   "outputs": [],
   "source": [
    "### Question 13"
   ]
  },
  {
   "cell_type": "code",
   "execution_count": 104,
   "id": "483a29b8",
   "metadata": {},
   "outputs": [],
   "source": [
    "usersPerItem = defaultdict(set) # Maps an item to the users who rated it\n",
    "itemsPerUser = defaultdict(set) # Maps a user to the items that they rated\n",
    "itemNames = {}\n",
    "\n",
    "for d in dataset:\n",
    "    user,item = d['userID'], d['gameID']\n",
    "    usersPerItem[item].add(user)\n",
    "    itemsPerUser[user].add(item)"
   ]
  },
  {
   "cell_type": "code",
   "execution_count": 105,
   "id": "225d6855",
   "metadata": {},
   "outputs": [],
   "source": [
    "def Jaccard(s1, s2):\n",
    "    numer = len(s1.intersection(s2))\n",
    "    denom = len(s1.union(s2))\n",
    "    return numer / denom"
   ]
  },
  {
   "cell_type": "code",
   "execution_count": 106,
   "id": "2b0799c0",
   "metadata": {},
   "outputs": [],
   "source": [
    "def mostSimilar(i, func, N):\n",
    "    similarities = []\n",
    "    users = usersPerItem[i]\n",
    "    for i2 in usersPerItem:\n",
    "        if i2 == i: continue\n",
    "        sim = func(users, usersPerItem[i2])\n",
    "        similarities.append((sim, i2))\n",
    "    similarities.sort(reverse=True)\n",
    "    return similarities[:N]"
   ]
  },
  {
   "cell_type": "code",
   "execution_count": 107,
   "id": "5a644542",
   "metadata": {},
   "outputs": [],
   "source": [
    "ms = mostSimilar(dataset[0]['gameID'], Jaccard, 10)"
   ]
  },
  {
   "cell_type": "code",
   "execution_count": 108,
   "id": "d2202e12",
   "metadata": {},
   "outputs": [],
   "source": [
    "answers['Q13'] = [ms[0][0], ms[-1][0]]"
   ]
  },
  {
   "cell_type": "code",
   "execution_count": 109,
   "id": "df55cc6d",
   "metadata": {},
   "outputs": [
    {
     "name": "stdout",
     "output_type": "stream",
     "text": [
      "[0.07988165680473373, 0.04390243902439024]\n"
     ]
    }
   ],
   "source": [
    "assertFloatList(answers['Q13'], 2)\n",
    "\n",
    "print(answers['Q13'])"
   ]
  },
  {
   "cell_type": "code",
   "execution_count": null,
   "id": "a266cafb",
   "metadata": {},
   "outputs": [],
   "source": [
    "### Question 14"
   ]
  },
  {
   "cell_type": "code",
   "execution_count": 110,
   "id": "b15f52a4",
   "metadata": {},
   "outputs": [],
   "source": [
    "def mostSimilar14(i, func, N):\n",
    "    similarities = []\n",
    "    users_i1 = usersPerItem[i]\n",
    "    for i2 in usersPerItem:\n",
    "        if i2 == i: continue\n",
    "        sim = func(i, i2)\n",
    "        similarities.append((sim, i2))\n",
    "    similarities.sort(reverse=True)\n",
    "    return similarities[:N]"
   ]
  },
  {
   "cell_type": "code",
   "execution_count": 111,
   "id": "5325d790",
   "metadata": {},
   "outputs": [
    {
     "ename": "SyntaxError",
     "evalue": "invalid syntax (362479486.py, line 5)",
     "output_type": "error",
     "traceback": [
      "\u001b[0;36m  Cell \u001b[0;32mIn[111], line 5\u001b[0;36m\u001b[0m\n\u001b[0;31m    lab = # Set the label based on a rule\u001b[0m\n\u001b[0m          ^\u001b[0m\n\u001b[0;31mSyntaxError\u001b[0m\u001b[0;31m:\u001b[0m invalid syntax\n"
     ]
    }
   ],
   "source": [
    "ratingDict = {}\n",
    "\n",
    "for d in dataset:\n",
    "    u,i = d['userID'], d['gameID']\n",
    "    lab = # Set the label based on a rule\n",
    "    ratingDict[(u,i)] = lab"
   ]
  },
  {
   "cell_type": "code",
   "execution_count": 112,
   "id": "bdc9cf7e",
   "metadata": {},
   "outputs": [],
   "source": [
    "def Cosine(i1, i2):\n",
    "    # Between two items\n",
    "    inter = len(usersPerItem[i1].intersection(usersPerItem[i2]))\n",
    "    sum_sq_i1 = len(usersPerItem[i1])\n",
    "    sum_sq_i2 = len(usersPerItem[i2])\n",
    "    if inter == 0: return 0\n",
    "    return inter / math.sqrt(sum_sq_i1 * sum_sq_i2)"
   ]
  },
  {
   "cell_type": "code",
   "execution_count": 113,
   "id": "55c82dbc",
   "metadata": {},
   "outputs": [],
   "source": [
    "ms = mostSimilar14(dataset[0]['gameID'], Cosine, 10)"
   ]
  },
  {
   "cell_type": "code",
   "execution_count": 114,
   "id": "5fed0ed3",
   "metadata": {},
   "outputs": [],
   "source": [
    "answers['Q14'] = [ms[0][0], ms[-1][0]]"
   ]
  },
  {
   "cell_type": "code",
   "execution_count": 115,
   "id": "8308daf9",
   "metadata": {},
   "outputs": [
    {
     "name": "stdout",
     "output_type": "stream",
     "text": [
      "[0.16402709233688792, 0.08907534498272675]\n"
     ]
    }
   ],
   "source": [
    "assertFloatList(answers['Q14'], 2)\n",
    "\n",
    "print(answers['Q14'])"
   ]
  },
  {
   "cell_type": "code",
   "execution_count": null,
   "id": "61c3358a",
   "metadata": {},
   "outputs": [],
   "source": [
    "### Question 15"
   ]
  },
  {
   "cell_type": "code",
   "execution_count": 116,
   "id": "63a5a945",
   "metadata": {},
   "outputs": [
    {
     "ename": "SyntaxError",
     "evalue": "invalid syntax (362479486.py, line 5)",
     "output_type": "error",
     "traceback": [
      "\u001b[0;36m  Cell \u001b[0;32mIn[116], line 5\u001b[0;36m\u001b[0m\n\u001b[0;31m    lab = # Set the label based on a rule\u001b[0m\n\u001b[0m          ^\u001b[0m\n\u001b[0;31mSyntaxError\u001b[0m\u001b[0;31m:\u001b[0m invalid syntax\n"
     ]
    }
   ],
   "source": [
    "ratingDict = {}\n",
    "\n",
    "for d in dataset:\n",
    "    u,i = d['userID'], d['gameID']\n",
    "    lab = # Set the label based on a rule\n",
    "    ratingDict[(u,i)] = lab"
   ]
  },
  {
   "cell_type": "code",
   "execution_count": 117,
   "metadata": {},
   "outputs": [],
   "source": [
    "def CosineHours(i1, i2):\n",
    "    users_i1 = usersPerItem[i1]\n",
    "    users_i2 = usersPerItem[i2]\n",
    "    inter_users = users_i1.intersection(users_i2)\n",
    "\n",
    "    numerator = sum(ratingDict[(u, i1)] * ratingDict[(u, i2)] for u in inter_users)\n",
    "\n",
    "    sum_sq_i1 = sum(ratingDict[(u, i1)]**2 for u in users_i1)\n",
    "    sum_sq_i2 = sum(ratingDict[(u, i2)]**2 for u in users_i2)\n",
    "    \n",
    "    if sum_sq_i1 == 0 or sum_sq_i2 == 0:\n",
    "        return 0\n",
    "    \n",
    "    return numerator / math.sqrt(sum_sq_i1 * sum_sq_i2)"
   ]
  },
  {
   "cell_type": "code",
   "execution_count": 118,
   "id": "95406dc3",
   "metadata": {},
   "outputs": [],
   "source": [
    "ms = mostSimilar14(dataset[0]['gameID'], Cosine, 10)"
   ]
  },
  {
   "cell_type": "code",
   "execution_count": 119,
   "id": "ae95f22d",
   "metadata": {},
   "outputs": [],
   "source": [
    "answers['Q15'] = [ms[0][0], ms[-1][0]]"
   ]
  },
  {
   "cell_type": "code",
   "execution_count": 120,
   "id": "eac38017",
   "metadata": {},
   "outputs": [
    {
     "name": "stdout",
     "output_type": "stream",
     "text": [
      "[0.16402709233688792, 0.08907534498272675]\n"
     ]
    }
   ],
   "source": [
    "assertFloatList(answers['Q15'], 2)\n",
    "\n",
    "print(answers['Q15'])"
   ]
  },
  {
   "cell_type": "code",
   "execution_count": 121,
   "id": "436d2691",
   "metadata": {},
   "outputs": [],
   "source": [
    "f = open(\"answers_midterm.txt\", 'w')\n",
    "f.write(str(answers) + '\\n')\n",
    "f.close()"
   ]
  },
  {
   "cell_type": "code",
   "execution_count": null,
   "id": "b53acc41",
   "metadata": {},
   "outputs": [],
   "source": []
  }
 ],
 "metadata": {
  "kernelspec": {
   "display_name": "Python 3 (ipykernel)",
   "language": "python",
   "name": "python3"
  },
  "language_info": {
   "codemirror_mode": {
    "name": "ipython",
    "version": 3
   },
   "file_extension": ".py",
   "mimetype": "text/x-python",
   "name": "python",
   "nbconvert_exporter": "python",
   "pygments_lexer": "ipython3",
   "version": "3.11.4"
  }
 },
 "nbformat": 4,
 "nbformat_minor": 5
}
